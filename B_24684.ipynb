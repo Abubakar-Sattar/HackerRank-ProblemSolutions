{
  "cells": [
    {
      "cell_type": "code",
      "execution_count": null,
      "metadata": {
        "colab": {
          "base_uri": "https://localhost:8080/"
        },
        "id": "eW4xqtoc9zCL",
        "outputId": "b0524f68-25c7-4d3b-ee7c-274d40e093e6"
      },
      "outputs": [
        {
          "name": "stdout",
          "output_type": "stream",
          "text": [
            "Random Quiz Generaotr\n"
          ]
        }
      ],
      "source": [
        "print (\"Random Quiz Generaotr\")\n",
        "name = input(\"What is your name? \")\n",
        "print(\"Hello, \"+name+\". You will be completing a quiz that will ask you 12 questions which will test you on adding, subtracting and multiplying two numbers together. Try your best at each question and good luck!\")\n",
        "import random\n",
        "from operator import add, sub, mul\n",
        "\n",
        "count = 0\n",
        "score = 0\n",
        "while count <= 12:\n",
        "    ops = (add, sub, mul)\n",
        "    op = random.choice(ops)\n",
        "    x = random.randint(1,10)\n",
        "    y = random.randint(1,10)\n",
        "\n",
        "    if op == add:\n",
        "        print(\"What is\", x, \"+\",y, \"? \")\n",
        "        question_add = int(input())\n",
        "        answer_add = op(x,y)\n",
        "        if question_add == answer_add:\n",
        "            print(\"Well done, this is correct!\")\n",
        "            score = score + 1\n",
        "            count = count + 1\n",
        "        else:\n",
        "            print(\"Sorry, but this is incorrect.\")\n",
        "            count = count + 1\n",
        "\n",
        "    elif op == sub:\n",
        "        print(\"What is\", x, \"-\", y, \"? \")\n",
        "        question_sub = int(input())\n",
        "        answer_sub = op(x,y)\n",
        "        if question_sub == answer_sub:\n",
        "            print(\"Well done, this is correct!\")\n",
        "            score = score + 1\n",
        "            count = count + 1\n",
        "        else:\n",
        "            print(\"Sorry, but this is incorrect.\")\n",
        "            count = count + 1\n",
        "\n",
        "    elif op == mul:\n",
        "        print(\"What is\", x, \"x\", y, \"? \")\n",
        "        question_mul = int(input())\n",
        "        answer_mul = op(x,y)\n",
        "        if question_mul == answer_mul:\n",
        "            print(\"Well done, this is correct!\")\n",
        "            score = score + 1\n",
        "            count = count + 1\n",
        "        else:\n",
        "            print(\"Sorry, but this is incorrect.\")\n",
        "            count = count + 1\n",
        "\n",
        "    if count == 10:\n",
        "        print(\"Well done \"+name+\"! You have completed the quiz. Your final score out of 10 is \"+str(score)+\".\")\n"
      ]
    }
  ],
  "metadata": {
    "colab": {
      "collapsed_sections": [],
      "provenance": []
    },
    "kernelspec": {
      "display_name": "Python 3.10.0 64-bit",
      "language": "python",
      "name": "python3"
    },
    "language_info": {
      "name": "python",
      "version": "3.10.0"
    },
    "vscode": {
      "interpreter": {
        "hash": "f520476198db37990d62ff374f04dcc24163909b5e7c17f3739bae7483f5574d"
      }
    }
  },
  "nbformat": 4,
  "nbformat_minor": 0
}
